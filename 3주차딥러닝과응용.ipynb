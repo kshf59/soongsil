{
  "nbformat": 4,
  "nbformat_minor": 0,
  "metadata": {
    "colab": {
      "name": "3주차딥러닝과응용.ipynb",
      "provenance": [],
      "authorship_tag": "ABX9TyPMEdIQnWT0qCGKTadA1TeQ",
      "include_colab_link": true
    },
    "kernelspec": {
      "name": "python3",
      "display_name": "Python 3"
    },
    "language_info": {
      "name": "python"
    }
  },
  "cells": [
    {
      "cell_type": "markdown",
      "metadata": {
        "id": "view-in-github",
        "colab_type": "text"
      },
      "source": [
        "<a href=\"https://colab.research.google.com/github/kshf59/soongsil/blob/main/3%EC%A3%BC%EC%B0%A8%EB%94%A5%EB%9F%AC%EB%8B%9D%EA%B3%BC%EC%9D%91%EC%9A%A9.ipynb\" target=\"_parent\"><img src=\"https://colab.research.google.com/assets/colab-badge.svg\" alt=\"Open In Colab\"/></a>"
      ]
    },
    {
      "cell_type": "code",
      "execution_count": null,
      "metadata": {
        "id": "NUzdSxGCVThr"
      },
      "outputs": [],
      "source": [
        ""
      ]
    }
  ]
}